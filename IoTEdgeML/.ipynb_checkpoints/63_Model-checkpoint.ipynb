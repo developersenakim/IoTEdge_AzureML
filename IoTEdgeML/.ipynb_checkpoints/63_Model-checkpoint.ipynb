{
 "cells": [
  {
   "cell_type": "markdown",
   "metadata": {},
   "source": [
    "## 작동코드"
   ]
  },
  {
   "cell_type": "code",
   "execution_count": 56,
   "metadata": {},
   "outputs": [],
   "source": [
    "input_str= '{\"line\": \"MC2LINE\",\"raw\": \"P0104087054960BW0301_00013440049_2018-07-20-08-28-10_Raw.csv\",\"cep\": \"P0104087054960BW0301_00013440049_2018-07-20-08-28-10_Cep.csv\"}'"
   ]
  },
  {
   "cell_type": "code",
   "execution_count": 57,
   "metadata": {
    "scrolled": true
   },
   "outputs": [],
   "source": [
    "from rpy2.robjects import r\n",
    "from rpy2.robjects.packages import importr\n",
    "from rpy2.robjects import pandas2ri\n",
    "from rpy2 import robjects\n",
    "import tzlocal\n",
    "import pandas as pd\n",
    "import json"
   ]
  },
  {
   "cell_type": "code",
   "execution_count": 58,
   "metadata": {},
   "outputs": [
    {
     "data": {
      "text/plain": [
       "R object with classes: ('function',) mapped to:\n",
       "<SignatureTranslatedFunction - Python:0x000002EEE3CBAAC8 / R:0x000002EEE71DB928>"
      ]
     },
     "execution_count": 58,
     "metadata": {},
     "output_type": "execute_result"
    }
   ],
   "source": [
    "# def init()\n",
    "r('''\n",
    "## 1. Load libraries and custom functions ####\n",
    "if(!\"optparse\" %in% rownames(installed.packages())) {\n",
    "  install.packages(\"optparse\")\n",
    "}\n",
    "if(!\"tidyverse\" %in% rownames(installed.packages())) {\n",
    "  install.packages(\"tidyverse\")\n",
    "}\n",
    "if(!\"xgboost\" %in% rownames(installed.packages())) {\n",
    "  install.packages(\"xgboost\")\n",
    "}\n",
    "if(!\"control\" %in% rownames(installed.packages())) {\n",
    "  install.packages(\"control\")\n",
    "}\n",
    "\n",
    "library(optparse)\n",
    "library(tidyverse)\n",
    "library(xgboost)\n",
    "library(control)\n",
    "\n",
    "#전역변수 : Bind 된 경로로 변경 필요\n",
    "model_path <- \"./model/\"\n",
    "\n",
    "preprocessfile <- paste0(model_path,\"source_preprocessing.R\")\n",
    "source(preprocessfile)\n",
    "\n",
    "select <- dplyr::select\n",
    "filter <- dplyr::filter\n",
    "''')"
   ]
  },
  {
   "cell_type": "code",
   "execution_count": 94,
   "metadata": {},
   "outputs": [
    {
     "data": {
      "text/plain": [
       "{'line': 'MC2LINE',\n",
       " 'raw': 'P0104087054960BW0301_00013440049_2018-07-20-08-28-10_Raw.csv',\n",
       " 'cep': 'P0104087054960BW0301_00013440049_2018-07-20-08-28-10_Cep.csv',\n",
       " 'predicted': 'NG'}"
      ]
     },
     "execution_count": 94,
     "metadata": {},
     "output_type": "execute_result"
    }
   ],
   "source": [
    "# input_str이 파일 이름을 가진 json으로 입력된다는 가정하에 작성\n",
    "input_json = json.loads(input_str)\n",
    "\n",
    "#전역변수 : Bind 된 경로로 변경 필요\n",
    "data_path = './data/'\n",
    "\n",
    "raw_file = data_path + input_json['raw']\n",
    "cep_file = data_path + input_json['cep']\n",
    "\n",
    "r.assign('line_name',input_json['line'])\n",
    "r.assign('raw_file',raw_file)\n",
    "r.assign('cep_file',cep_file)\n",
    "\n",
    "r('''\n",
    "tmp_raw <- read.csv(raw_file)%>%set_names(c(\"d\",\"r\",\"n\"))\n",
    "tmp_cep <- read.csv(cep_file)%>%set_names(c(\"q\",\"x1\",\"x2\",\"x3\"))\n",
    "\n",
    "## 3.1 Cep 이상치 확률계산 모델 불러오기\n",
    "cep_model_fname <- paste0(model_path,\"cep_models_2018-11-06-06-29-32.RData\")\n",
    "load(cep_model_fname)\n",
    "\n",
    "## 3.2 불량 예측 모델 불러오기\n",
    "fd_model_fname <- paste0(model_path,\"fault_detection_model_2018-11-06-07-39-47.RData\")\n",
    "load(fd_model_fname)\n",
    "\n",
    "## 3.3 라인기준 모델 선택\n",
    "models <- lapply(models_list, function(x) x[x$l==line_name,])\n",
    "\n",
    "## 3.4 Feature 생성\n",
    "df_f <- get_features(tmp_raw, tmp_cep, models=models)\n",
    "\n",
    "## 3.5 예측\n",
    "df_pred <- predict_fault(df = df_f, line = line_name, model = fault_detection_model)\n",
    "\n",
    "''')\n",
    "\n",
    "r_result = robjects.r['df_pred'][21]\n",
    "\n",
    "input_json['predicted']= str(r_result)[4:6]\n",
    "\n",
    "input_json"
   ]
  },
  {
   "cell_type": "code",
   "execution_count": null,
   "metadata": {},
   "outputs": [],
   "source": []
  }
 ],
 "metadata": {
  "kernelspec": {
   "display_name": "Python 3",
   "language": "python",
   "name": "python3"
  },
  "language_info": {
   "codemirror_mode": {
    "name": "ipython",
    "version": 3
   },
   "file_extension": ".py",
   "mimetype": "text/x-python",
   "name": "python",
   "nbconvert_exporter": "python",
   "pygments_lexer": "ipython3",
   "version": "3.6.7"
  }
 },
 "nbformat": 4,
 "nbformat_minor": 2
}
